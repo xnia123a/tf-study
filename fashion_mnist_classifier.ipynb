{
  "nbformat": 4,
  "nbformat_minor": 0,
  "metadata": {
    "colab": {
      "name": "fashion_mnist_classifier.ipynb",
      "version": "0.3.2",
      "provenance": [],
      "collapsed_sections": [],
      "include_colab_link": true
    },
    "kernelspec": {
      "name": "python3",
      "display_name": "Python 3"
    }
  },
  "cells": [
    {
      "cell_type": "markdown",
      "metadata": {
        "id": "view-in-github",
        "colab_type": "text"
      },
      "source": [
        "<a href=\"https://colab.research.google.com/github/hedgehog-zowie/tf-study/blob/master/fashion_mnist_classifier.ipynb\" target=\"_parent\"><img src=\"https://colab.research.google.com/assets/colab-badge.svg\" alt=\"Open In Colab\"/></a>"
      ]
    },
    {
      "metadata": {
        "id": "z8rEYifvBUHQ",
        "colab_type": "text"
      },
      "cell_type": "markdown",
      "source": [
        "第一个tensorflow例子，使用tensorflow的keras api实现服饰图像分类。"
      ]
    },
    {
      "metadata": {
        "id": "v9XN8HdJC_HV",
        "colab_type": "text"
      },
      "cell_type": "markdown",
      "source": [
        "1. 导入相关module。"
      ]
    },
    {
      "metadata": {
        "id": "DKuiaf4qBX0T",
        "colab_type": "code",
        "colab": {
          "base_uri": "https://localhost:8080/",
          "height": 71
        },
        "outputId": "c8779987-73fc-4275-c26d-26b6e9517daa"
      },
      "cell_type": "code",
      "source": [
        "# import modules\n",
        "import tensorflow as tf\n",
        "from tensorflow import keras\n",
        "\n",
        "import numpy as np\n",
        "import matplotlib as mpl\n",
        "import matplotlib.pyplot as plt\n",
        "\n",
        "# 查看各个module的版本\n",
        "print('tensorflow version: ', tf.__version__)\n",
        "print('numpy version: ', np.__version__)\n",
        "print('matplot version: ', mpl.__version__)"
      ],
      "execution_count": 1,
      "outputs": [
        {
          "output_type": "stream",
          "text": [
            "tensorflow version:  1.13.0-rc1\n",
            "numpy version:  1.14.6\n",
            "matplot version:  3.0.2\n"
          ],
          "name": "stdout"
        }
      ]
    },
    {
      "metadata": {
        "id": "7IpVOFpQDEBV",
        "colab_type": "text"
      },
      "cell_type": "markdown",
      "source": [
        ""
      ]
    },
    {
      "metadata": {
        "id": "OCGVBZJgDGiN",
        "colab_type": "text"
      },
      "cell_type": "markdown",
      "source": [
        "2. 导入fashion mnist数据集。keras已经封装了一些数据集，包括mnist、fashion mnist、boston housing price等，我们可以非常简便地导入这些数据集。"
      ]
    },
    {
      "metadata": {
        "id": "imK7pVaSEBus",
        "colab_type": "code",
        "colab": {
          "base_uri": "https://localhost:8080/",
          "height": 53
        },
        "outputId": "1e9f059e-268e-4da2-c1d8-c184d15175a1"
      },
      "cell_type": "code",
      "source": [
        "fashion_mnist = keras.datasets.fashion_mnist\n",
        "# train_images和train_labels是训练集，test_images和test_labels是测试集\n",
        "(train_images, train_labels), (test_images, test_labels) = fashion_mnist.load_data()\n",
        "print('train_images.shape: ', train_images.shape)\n",
        "print('test_images.shape: ', test_images.shape)"
      ],
      "execution_count": 2,
      "outputs": [
        {
          "output_type": "stream",
          "text": [
            "train_images.shape:  (60000, 28, 28)\n",
            "test_images.shape:  (10000, 28, 28)\n"
          ],
          "name": "stdout"
        }
      ]
    },
    {
      "metadata": {
        "id": "L4UAYs6LEBAE",
        "colab_type": "text"
      },
      "cell_type": "markdown",
      "source": [
        ""
      ]
    },
    {
      "metadata": {
        "id": "4jbEbddqEoh9",
        "colab_type": "text"
      },
      "cell_type": "markdown",
      "source": [
        "3. 对数据进行预处理，本例中仅需要将各个像素值缩放到0-1之间即可。"
      ]
    },
    {
      "metadata": {
        "id": "TevL8f64E2pU",
        "colab_type": "code",
        "colab": {}
      },
      "cell_type": "code",
      "source": [
        "train_images = train_images / 255.0\n",
        "test_images = test_images / 255.0"
      ],
      "execution_count": 0,
      "outputs": []
    },
    {
      "metadata": {
        "id": "RasbSR_dFHkm",
        "colab_type": "text"
      },
      "cell_type": "markdown",
      "source": [
        "4. 设置层，包括层数，各层的神经元个数、激活函数等。"
      ]
    },
    {
      "metadata": {
        "id": "4Vdegmg6Fbl4",
        "colab_type": "code",
        "colab": {
          "base_uri": "https://localhost:8080/",
          "height": 91
        },
        "outputId": "8599b8f4-a087-4302-d9ff-d45199437424"
      },
      "cell_type": "code",
      "source": [
        "model = keras.Sequential([\n",
        "    # 将图像组成向量进行扁平化处理，即将28 X 28的二维数组转换成一维数组\n",
        "    keras.layers.Flatten(input_shape=(28,28)),\n",
        "    # 全连接层，包含128个神经元，激活函数为relu\n",
        "    keras.layers.Dense(128, activation = tf.nn.relu),\n",
        "    # 全连接层，包含10个神经元，激活函数为softmax\n",
        "    keras.layers.Dense(10, activation = tf.nn.softmax)\n",
        "])"
      ],
      "execution_count": 4,
      "outputs": [
        {
          "output_type": "stream",
          "text": [
            "WARNING:tensorflow:From /usr/local/lib/python3.6/dist-packages/tensorflow/python/ops/resource_variable_ops.py:435: colocate_with (from tensorflow.python.framework.ops) is deprecated and will be removed in a future version.\n",
            "Instructions for updating:\n",
            "Colocations handled automatically by placer.\n"
          ],
          "name": "stdout"
        }
      ]
    },
    {
      "metadata": {
        "id": "GeEYxKNBIwq5",
        "colab_type": "text"
      },
      "cell_type": "markdown",
      "source": [
        "5. 编译模型，需要设置3个重要参数优化器、损失函数、评估指标。"
      ]
    },
    {
      "metadata": {
        "id": "ut3SEMh1Jcpt",
        "colab_type": "code",
        "colab": {}
      },
      "cell_type": "code",
      "source": [
        "model.compile(optimizer = tf.train.AdamOptimizer(),\n",
        "             loss = 'sparse_categorical_crossentropy',\n",
        "             metrics = ['accuracy'])"
      ],
      "execution_count": 0,
      "outputs": []
    },
    {
      "metadata": {
        "id": "2zhD9DGjJxQm",
        "colab_type": "text"
      },
      "cell_type": "markdown",
      "source": [
        "6. 训练模型，将数据传递到模型中进行拟合，该方法也有几个重要的参数：epochs次数、batch_size（批量大小）、validation_data（验证集，包括data和label），如：model.fit(data, labels, epochs = 10, batch_size = 100, validation_data = (val_data, val_labels))。"
      ]
    },
    {
      "metadata": {
        "id": "iqs9KynpKCHg",
        "colab_type": "code",
        "colab": {
          "base_uri": "https://localhost:8080/",
          "height": 835
        },
        "outputId": "b14c534e-e5ec-4bdf-a045-c52eb8bea771"
      },
      "cell_type": "code",
      "source": [
        "# 准备验证集和训练集\n",
        "val_images = train_images[:10000]\n",
        "t_images = train_images[10000:]\n",
        "print('val_images.shape:', val_images.shape,',t_images.shape:', t_images.shape)\n",
        "val_labels = train_labels[:10000]\n",
        "t_labels = train_labels[10000:]\n",
        "print('val_labels.shape:', val_labels.shape,',t_labels.shape:', t_labels.shape)\n",
        "# 训练模型\n",
        "history = model.fit(t_images, t_labels, epochs = 10, validation_data = (val_images, val_labels))\n",
        "# history对象是一个字典，包含训练期间发生的所有情况\n",
        "history_dict = history.history\n",
        "print('history_dict.keys(): ', history_dict.keys())\n",
        "\n",
        "# 画图\n",
        "acc = history_dict['acc']\n",
        "val_acc = history_dict['val_acc']\n",
        "loss = history_dict['loss']\n",
        "val_loss = history_dict['val_loss']\n",
        "epochs = range(1, len(acc) + 1)\n",
        "\n",
        "plt.figure(figsize=(15, 6))\n",
        "\n",
        "plt.subplot(1, 2, 1)\n",
        "plt.title('acc')\n",
        "plt.xlabel('epochs')\n",
        "plt.ylabel('accuracy')\n",
        "plt.plot(epochs, acc, color='blue', label='train acc')\n",
        "plt.plot(epochs, val_acc, color='green', label='val acc')\n",
        "plt.legend()\n",
        "\n",
        "plt.subplot(1, 2, 2)\n",
        "plt.title('loss')\n",
        "plt.xlabel('epochs')\n",
        "plt.ylabel('loss')\n",
        "plt.plot(epochs, loss, color='blue', label='train loss')\n",
        "plt.plot(epochs, val_loss, color='green', label='val loss')\n",
        "plt.legend()\n",
        "\n",
        "plt.show()"
      ],
      "execution_count": 6,
      "outputs": [
        {
          "output_type": "stream",
          "text": [
            "val_images.shape: (10000, 28, 28) ,t_images.shape: (50000, 28, 28)\n",
            "val_labels.shape: (10000,) ,t_labels.shape: (50000,)\n",
            "Train on 50000 samples, validate on 10000 samples\n",
            "Epoch 1/10\n",
            "50000/50000 [==============================] - 4s 84us/sample - loss: 0.5113 - acc: 0.8201 - val_loss: 0.4264 - val_acc: 0.8449\n",
            "Epoch 2/10\n",
            "50000/50000 [==============================] - 4s 80us/sample - loss: 0.3844 - acc: 0.8621 - val_loss: 0.3737 - val_acc: 0.8614\n",
            "Epoch 3/10\n",
            "50000/50000 [==============================] - 4s 80us/sample - loss: 0.3437 - acc: 0.8754 - val_loss: 0.3760 - val_acc: 0.8666\n",
            "Epoch 4/10\n",
            "50000/50000 [==============================] - 4s 87us/sample - loss: 0.3230 - acc: 0.8813 - val_loss: 0.3255 - val_acc: 0.8771\n",
            "Epoch 5/10\n",
            "50000/50000 [==============================] - 4s 87us/sample - loss: 0.3027 - acc: 0.8884 - val_loss: 0.3270 - val_acc: 0.8804\n",
            "Epoch 6/10\n",
            "50000/50000 [==============================] - 4s 83us/sample - loss: 0.2878 - acc: 0.8939 - val_loss: 0.3371 - val_acc: 0.8788\n",
            "Epoch 7/10\n",
            "50000/50000 [==============================] - 4s 84us/sample - loss: 0.2744 - acc: 0.8990 - val_loss: 0.3107 - val_acc: 0.8871\n",
            "Epoch 8/10\n",
            "50000/50000 [==============================] - 4s 87us/sample - loss: 0.2630 - acc: 0.9033 - val_loss: 0.3233 - val_acc: 0.8858\n",
            "Epoch 9/10\n",
            "50000/50000 [==============================] - 4s 84us/sample - loss: 0.2520 - acc: 0.9061 - val_loss: 0.3193 - val_acc: 0.8868\n",
            "Epoch 10/10\n",
            "50000/50000 [==============================] - 4s 87us/sample - loss: 0.2433 - acc: 0.9099 - val_loss: 0.3107 - val_acc: 0.8855\n",
            "history_dict.keys():  dict_keys(['loss', 'acc', 'val_loss', 'val_acc'])\n"
          ],
          "name": "stdout"
        },
        {
          "output_type": "display_data",
          "data": {
            "image/png": "[encoded data removed]",
            "text/plain": [
              "<Figure size 1080x432 with 2 Axes>"
            ]
          },
          "metadata": {
            "tags": []
          }
        }
      ]
    },
    {
      "metadata": {
        "id": "2zliynjAKPmj",
        "colab_type": "text"
      },
      "cell_type": "markdown",
      "source": [
        "7. 模型评估，使用测试集进行模型评估。"
      ]
    },
    {
      "metadata": {
        "id": "94gwp1MDKb_E",
        "colab_type": "code",
        "colab": {
          "base_uri": "https://localhost:8080/",
          "height": 53
        },
        "outputId": "b39fa452-d2df-4030-bafd-bc4a4d386f78"
      },
      "cell_type": "code",
      "source": [
        "test_loss, test_acc = model.evaluate(test_images, test_labels)\n",
        "print('test loss: ', test_loss, ', test accuracy: ', test_acc)"
      ],
      "execution_count": 7,
      "outputs": [
        {
          "output_type": "stream",
          "text": [
            "10000/10000 [==============================] - 0s 42us/sample - loss: 0.3451 - acc: 0.8782\n",
            "test loss:  0.34509223532676697 , test accuracy:  0.8782\n"
          ],
          "name": "stdout"
        }
      ]
    },
    {
      "metadata": {
        "id": "z5Hj92kPKxgD",
        "colab_type": "text"
      },
      "cell_type": "markdown",
      "source": [
        "8. 模型推理（预测），keras仅支持批量推理，因此，当我们仅需要对一个图像进行推理时，也需要将其添加到列表中，再调用predict方法。"
      ]
    },
    {
      "metadata": {
        "id": "imsg1odlK4MV",
        "colab_type": "code",
        "colab": {
          "base_uri": "https://localhost:8080/",
          "height": 161
        },
        "outputId": "fa6cb6c0-fc6c-4666-86b0-0c0254c9ee47"
      },
      "cell_type": "code",
      "source": [
        "# 对所有测试集进行推理\n",
        "predictions = model.predict(test_images)\n",
        "\n",
        "print('对第0个图像的预测结果：', predictions[0])\n",
        "# 第0个图片真实分类\n",
        "c0 = test_labels[0]\n",
        "# 预测第0个图片的分类\n",
        "p0 = np.argmax(predictions[0])\n",
        "print('真实：', c0, '，预测为： ', p0)\n",
        "\n",
        "# 对单个图像进行推理\n",
        "img = test_images[1]\n",
        "img = np.expand_dims(img, 0)\n",
        "print('img1 shape: ', img.shape)\n",
        "predictions_single = model.predict(img)\n",
        "print('对单个图像的预测结果：', predictions_single)\n",
        "# 第1个图片真实分类\n",
        "c1 = test_labels[1]\n",
        "# 预测第1个图片的分类\n",
        "p1 = np.argmax(predictions_single[0])\n",
        "print('真实：', c1, '，预测为： ', p1)"
      ],
      "execution_count": 8,
      "outputs": [
        {
          "output_type": "stream",
          "text": [
            "对第0个图像的预测结果： [1.55682685e-07 1.01729620e-08 4.88996079e-08 4.04508915e-09\n",
            " 1.83119170e-07 8.37069761e-04 5.80433657e-08 7.84719270e-03\n",
            " 1.16554915e-07 9.91315186e-01]\n",
            "真实： 9 ，预测为：  9\n",
            "img1 shape:  (1, 28, 28)\n",
            "对单个图像的预测结果： [[9.2263661e-05 1.5553426e-12 9.9886191e-01 2.8457933e-10 2.0250703e-04\n",
            "  4.8646772e-12 8.4329303e-04 3.5508804e-21 4.1980173e-11 2.5807473e-17]]\n",
            "真实： 2 ，预测为：  2\n"
          ],
          "name": "stdout"
        }
      ]
    }
  ]
}