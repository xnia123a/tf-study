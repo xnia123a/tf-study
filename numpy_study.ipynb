{
  "nbformat": 4,
  "nbformat_minor": 0,
  "metadata": {
    "colab": {
      "name": "numpy_study.ipynb",
      "version": "0.3.2",
      "provenance": [],
      "collapsed_sections": [],
      "include_colab_link": true
    },
    "kernelspec": {
      "name": "python3",
      "display_name": "Python 3"
    }
  },
  "cells": [
    {
      "cell_type": "markdown",
      "metadata": {
        "id": "view-in-github",
        "colab_type": "text"
      },
      "source": [
        "<a href=\"https://colab.research.google.com/github/hedgehog-zowie/tf-study/blob/master/numpy_study.ipynb\" target=\"_parent\"><img src=\"https://colab.research.google.com/assets/colab-badge.svg\" alt=\"Open In Colab\"/></a>"
      ]
    },
    {
      "metadata": {
        "id": "HovzqBYze7IN",
        "colab_type": "code",
        "colab": {}
      },
      "cell_type": "code",
      "source": [
        "import numpy as np"
      ],
      "execution_count": 0,
      "outputs": []
    },
    {
      "metadata": {
        "id": "b5ZPItTIg8aa",
        "colab_type": "code",
        "outputId": "6c364b39-2a9a-4355-aa07-4905f639bd53",
        "colab": {
          "base_uri": "https://localhost:8080/",
          "height": 35
        }
      },
      "cell_type": "code",
      "source": [
        "# 构造一个多维数组\n",
        "a1 = np.array([[1,2,3],[4,5,6]])\n",
        "# 显示维度及每维数组大小\n",
        "a1.shape"
      ],
      "execution_count": 0,
      "outputs": [
        {
          "output_type": "execute_result",
          "data": {
            "text/plain": [
              "(2, 3)"
            ]
          },
          "metadata": {
            "tags": []
          },
          "execution_count": 7
        }
      ]
    },
    {
      "metadata": {
        "id": "iobixGd-gYzi",
        "colab_type": "code",
        "colab": {}
      },
      "cell_type": "code",
      "source": [
        "# 构造一个多维数组的多维数组\n",
        "a2 = np.array([[[111,112,113,114],[121,122,123,124]], [[211,212,213,214],[221,222,223,224]], [[311,312,313,314],[321,322,323,324]]])"
      ],
      "execution_count": 0,
      "outputs": []
    },
    {
      "metadata": {
        "id": "LL6CRIZdgpFE",
        "colab_type": "code",
        "outputId": "966a46bf-8af5-42c7-cfec-d53864a0b588",
        "colab": {
          "base_uri": "https://localhost:8080/",
          "height": 35
        }
      },
      "cell_type": "code",
      "source": [
        "a2.shape"
      ],
      "execution_count": 0,
      "outputs": [
        {
          "output_type": "execute_result",
          "data": {
            "text/plain": [
              "(3, 2, 4)"
            ]
          },
          "metadata": {
            "tags": []
          },
          "execution_count": 21
        }
      ]
    },
    {
      "metadata": {
        "id": "Pz5yhBt2hjwE",
        "colab_type": "code",
        "outputId": "53954f67-a38c-420e-cf7d-d4e5327ad287",
        "colab": {
          "base_uri": "https://localhost:8080/",
          "height": 35
        }
      },
      "cell_type": "code",
      "source": [
        "# 显示维数\n",
        "a2.ndim"
      ],
      "execution_count": 0,
      "outputs": [
        {
          "output_type": "execute_result",
          "data": {
            "text/plain": [
              "3"
            ]
          },
          "metadata": {
            "tags": []
          },
          "execution_count": 22
        }
      ]
    },
    {
      "metadata": {
        "id": "oLpFJkWAhlVZ",
        "colab_type": "code",
        "outputId": "2dfed840-ba80-42aa-dbdb-a74779bbdc81",
        "colab": {
          "base_uri": "https://localhost:8080/",
          "height": 35
        }
      },
      "cell_type": "code",
      "source": [
        "# 显示元素总数\n",
        "a2.size"
      ],
      "execution_count": 0,
      "outputs": [
        {
          "output_type": "execute_result",
          "data": {
            "text/plain": [
              "18"
            ]
          },
          "metadata": {
            "tags": []
          },
          "execution_count": 13
        }
      ]
    },
    {
      "metadata": {
        "id": "JuROjxE2hnyn",
        "colab_type": "code",
        "outputId": "ef25c785-e1a1-4ece-964e-349aa3c2a7f2",
        "colab": {
          "base_uri": "https://localhost:8080/",
          "height": 35
        }
      },
      "cell_type": "code",
      "source": [
        "# 显示元素类型\n",
        "a2.dtype"
      ],
      "execution_count": 0,
      "outputs": [
        {
          "output_type": "execute_result",
          "data": {
            "text/plain": [
              "dtype('int64')"
            ]
          },
          "metadata": {
            "tags": []
          },
          "execution_count": 14
        }
      ]
    },
    {
      "metadata": {
        "id": "z1mVspH6h7FR",
        "colab_type": "code",
        "outputId": "7b8983d2-9215-4508-bbab-56f2d476a4d3",
        "colab": {
          "base_uri": "https://localhost:8080/",
          "height": 35
        }
      },
      "cell_type": "code",
      "source": [
        "# 显示每个元素的字节数\n",
        "a2.itemsize"
      ],
      "execution_count": 0,
      "outputs": [
        {
          "output_type": "execute_result",
          "data": {
            "text/plain": [
              "8"
            ]
          },
          "metadata": {
            "tags": []
          },
          "execution_count": 15
        }
      ]
    },
    {
      "metadata": {
        "id": "YXMxZ5DniPqO",
        "colab_type": "code",
        "outputId": "470730d5-4d7d-4505-e586-4ae3a1ac2674",
        "colab": {
          "base_uri": "https://localhost:8080/",
          "height": 215
        }
      },
      "cell_type": "code",
      "source": [
        "# 创建一个0-26的3 X 3 X 3的数组\n",
        "a3=np.arange(27).reshape(3,3,3)\n",
        "a3"
      ],
      "execution_count": 0,
      "outputs": [
        {
          "output_type": "execute_result",
          "data": {
            "text/plain": [
              "array([[[ 0,  1,  2],\n",
              "        [ 3,  4,  5],\n",
              "        [ 6,  7,  8]],\n",
              "\n",
              "       [[ 9, 10, 11],\n",
              "        [12, 13, 14],\n",
              "        [15, 16, 17]],\n",
              "\n",
              "       [[18, 19, 20],\n",
              "        [21, 22, 23],\n",
              "        [24, 25, 26]]])"
            ]
          },
          "metadata": {
            "tags": []
          },
          "execution_count": 18
        }
      ]
    },
    {
      "metadata": {
        "id": "bVOfOUNIlrSk",
        "colab_type": "code",
        "outputId": "31b23e45-0b5d-4909-e1a9-abed3d01bea5",
        "colab": {
          "base_uri": "https://localhost:8080/",
          "height": 71
        }
      },
      "cell_type": "code",
      "source": [
        "# 创建3 X 4的全0数组\n",
        "a4 = np.zeros((3,4))\n",
        "a4"
      ],
      "execution_count": 0,
      "outputs": [
        {
          "output_type": "execute_result",
          "data": {
            "text/plain": [
              "array([[0., 0., 0., 0.],\n",
              "       [0., 0., 0., 0.],\n",
              "       [0., 0., 0., 0.]])"
            ]
          },
          "metadata": {
            "tags": []
          },
          "execution_count": 23
        }
      ]
    },
    {
      "metadata": {
        "id": "Sx73R-oQibeV",
        "colab_type": "code",
        "outputId": "ec9ed045-e2ea-4a23-ee3e-5769b7d0f77e",
        "colab": {
          "base_uri": "https://localhost:8080/",
          "height": 143
        }
      },
      "cell_type": "code",
      "source": [
        "# 创建2 X 3 X 4的全1数组\n",
        "a5 = np.ones((2,3,4))\n",
        "a5"
      ],
      "execution_count": 0,
      "outputs": [
        {
          "output_type": "execute_result",
          "data": {
            "text/plain": [
              "array([[[1., 1., 1., 1.],\n",
              "        [1., 1., 1., 1.],\n",
              "        [1., 1., 1., 1.]],\n",
              "\n",
              "       [[1., 1., 1., 1.],\n",
              "        [1., 1., 1., 1.],\n",
              "        [1., 1., 1., 1.]]])"
            ]
          },
          "metadata": {
            "tags": []
          },
          "execution_count": 25
        }
      ]
    },
    {
      "metadata": {
        "id": "vvr1amGSl-B1",
        "colab_type": "code",
        "outputId": "2e064209-29bb-41d6-ffee-035a636182c6",
        "colab": {
          "base_uri": "https://localhost:8080/",
          "height": 35
        }
      },
      "cell_type": "code",
      "source": [
        "# 创建一个范围在[10, 30)区间内，间隔为5的数组\n",
        "a6 = np.arange( 10, 30, 5 )\n",
        "a6"
      ],
      "execution_count": 0,
      "outputs": [
        {
          "output_type": "execute_result",
          "data": {
            "text/plain": [
              "array([10, 15, 20, 25])"
            ]
          },
          "metadata": {
            "tags": []
          },
          "execution_count": 28
        }
      ]
    },
    {
      "metadata": {
        "id": "6RHB8-Gem-vz",
        "colab_type": "code",
        "outputId": "055751ca-6ebd-4145-e9c2-a460da56753f",
        "colab": {
          "base_uri": "https://localhost:8080/",
          "height": 35
        }
      },
      "cell_type": "code",
      "source": [
        "\n",
        "# 创建一个在[0, 2]区间内个数为9的数组\n",
        "a7 = np.linspace( 0, 2, 9)\n",
        "a7"
      ],
      "execution_count": 0,
      "outputs": [
        {
          "output_type": "execute_result",
          "data": {
            "text/plain": [
              "array([0.  , 0.25, 0.5 , 0.75, 1.  , 1.25, 1.5 , 1.75, 2.  ])"
            ]
          },
          "metadata": {
            "tags": []
          },
          "execution_count": 32
        }
      ]
    },
    {
      "metadata": {
        "id": "wIevGxq0nj7S",
        "colab_type": "code",
        "colab": {}
      },
      "cell_type": "code",
      "source": [
        "# 点乘与矩阵乘法， 点乘用*， 矩阵乘法用dot函数\n",
        "b1 = np.array([[1,2], [3,4]])\n",
        "b2 = np.array([[0,1], [1,0]])"
      ],
      "execution_count": 0,
      "outputs": []
    },
    {
      "metadata": {
        "id": "3wl394WkpKbz",
        "colab_type": "code",
        "outputId": "67b24731-8eae-4846-c3a6-0690f638c2f0",
        "colab": {
          "base_uri": "https://localhost:8080/",
          "height": 53
        }
      },
      "cell_type": "code",
      "source": [
        "b1 * b2"
      ],
      "execution_count": 0,
      "outputs": [
        {
          "output_type": "execute_result",
          "data": {
            "text/plain": [
              "array([[0, 2],\n",
              "       [3, 0]])"
            ]
          },
          "metadata": {
            "tags": []
          },
          "execution_count": 36
        }
      ]
    },
    {
      "metadata": {
        "id": "0sOHJwrypMSd",
        "colab_type": "code",
        "outputId": "fd5736cd-6c8c-41cc-c748-1020bdf2f699",
        "colab": {
          "base_uri": "https://localhost:8080/",
          "height": 53
        }
      },
      "cell_type": "code",
      "source": [
        "b1.dot(b2)"
      ],
      "execution_count": 0,
      "outputs": [
        {
          "output_type": "execute_result",
          "data": {
            "text/plain": [
              "array([[2, 1],\n",
              "       [4, 3]])"
            ]
          },
          "metadata": {
            "tags": []
          },
          "execution_count": 37
        }
      ]
    },
    {
      "metadata": {
        "id": "7_1d8l0KpNw8",
        "colab_type": "code",
        "outputId": "543a13e4-2638-4f17-ffda-b16a4c107a0d",
        "colab": {
          "base_uri": "https://localhost:8080/",
          "height": 107
        }
      },
      "cell_type": "code",
      "source": [
        "# asix参数的用法\n",
        "b = np.arange(12).reshape(3,4)\n",
        "print(b)\n",
        "# axis=0(第0维) 将针对每一个列进行运算，如 b.sum(axis=0) 将矩阵 b 中每一个列的所有元素都相加为一个标量\n",
        "r=b.sum(axis=0)\n",
        "print('sum of each column: ', r)\n",
        "# axis=1(第1维) 将针对每一行进行运算，如b.min(axis=1)将矩阵b中每一行的最小元素\n",
        "r=b.min(axis=1) \n",
        "print('min of each row:', r)\n",
        "# r=b.max(axis=2) 由于只有2维，因此axis=2会报错——“axis 2 is out of bounds for array of dimension 2”"
      ],
      "execution_count": 0,
      "outputs": [
        {
          "output_type": "stream",
          "text": [
            "[[ 0  1  2  3]\n",
            " [ 4  5  6  7]\n",
            " [ 8  9 10 11]]\n",
            "sum of each column:  [12 15 18 21]\n",
            "min of each row: [0 4 8]\n"
          ],
          "name": "stdout"
        }
      ]
    },
    {
      "metadata": {
        "id": "StSDQfEbNCk0",
        "colab_type": "code",
        "outputId": "09d6acfe-6e30-4ea5-b6cf-5fde0fe9459f",
        "colab": {
          "base_uri": "https://localhost:8080/",
          "height": 107
        }
      },
      "cell_type": "code",
      "source": [
        "# 数组操作\n",
        "a = np.arange(10)**3\n",
        "print(a)\n",
        "# 下标从0开始，如a[2]取第3个元素\n",
        "print(a[2])\n",
        "# 取下标区间[2,5)的元素\n",
        "print(a[2:5])\n",
        "# 取下标区间[0,6)的元素，且对能被3整除的下标元素进行操作，如下，将第0,3两个个元素设置为-1000\n",
        "a[:6:3] = -1000\n",
        "print(a)\n",
        "# 反转数组，没有指定维度时，空缺的维度被默认为取所有元素。\n",
        "r=a[ : : -1]\n",
        "print(r)"
      ],
      "execution_count": 0,
      "outputs": [
        {
          "output_type": "stream",
          "text": [
            "[  0   1   8  27  64 125 216 343 512 729]\n",
            "8\n",
            "[ 8 27 64]\n",
            "[-1000     1     8 -1000    64   125   216   343   512   729]\n",
            "[  729   512   343   216   125    64 -1000     8     1 -1000]\n"
          ],
          "name": "stdout"
        }
      ]
    },
    {
      "metadata": {
        "id": "5TRPpLZkSf5W",
        "colab_type": "code",
        "outputId": "025ce3b4-a37b-42f2-be3e-251a68c101b7",
        "colab": {
          "base_uri": "https://localhost:8080/",
          "height": 305
        }
      },
      "cell_type": "code",
      "source": [
        "# 数组堆叠\n",
        "x = 10*np.random.random((2,2))\n",
        "print(x)\n",
        "# floor 向下取整\n",
        "a = np.floor(x) \n",
        "print('a=', a)\n",
        "# ceil 向上取整\n",
        "b = np.ceil(x) \n",
        "print('b=', b)\n",
        "# vstack 垂直堆叠\n",
        "r=np.vstack((a, b))\n",
        "print('vstack=', r)\n",
        "# hstack 水平堆叠\n",
        "r=np.hstack((a, b))\n",
        "print('hstack=', r)\n",
        "# column_stack 堆叠一维数组为2维数组的列\n",
        "a = np.array([4.,2.])\n",
        "b = np.array([3.,8.])\n",
        "r=np.column_stack((a, b))\n",
        "print('column_stack=', r)\n",
        "# row_stack \n",
        "r=np.row_stack((a, b))\n",
        "print('row_stack=', r)"
      ],
      "execution_count": 0,
      "outputs": [
        {
          "output_type": "stream",
          "text": [
            "[[7.52017613 5.73675115]\n",
            " [8.12505733 5.67751328]]\n",
            "a= [[7. 5.]\n",
            " [8. 5.]]\n",
            "b= [[8. 6.]\n",
            " [9. 6.]]\n",
            "vstack= [[7. 5.]\n",
            " [8. 5.]\n",
            " [8. 6.]\n",
            " [9. 6.]]\n",
            "hstack= [[7. 5. 8. 6.]\n",
            " [8. 5. 9. 6.]]\n",
            "column_stack= [[4. 3.]\n",
            " [2. 8.]]\n",
            "row_stack= [[4. 2.]\n",
            " [3. 8.]]\n"
          ],
          "name": "stdout"
        }
      ]
    },
    {
      "metadata": {
        "id": "xNWm8wxiW_Ki",
        "colab_type": "code",
        "outputId": "7a67acb6-81ff-47f8-a8fc-a45cb5d98405",
        "colab": {
          "base_uri": "https://localhost:8080/",
          "height": 233
        }
      },
      "cell_type": "code",
      "source": [
        "# python参数是引用传递，因此数据复制不要直接用=号赋值\n",
        "a = np.arange(12)\n",
        "b = a\n",
        "print('b is a: ', b is a)\n",
        "# view函数可以使两个对象共享元素，但可改变形状\n",
        "c = a.view()\n",
        "print('c is a: ', c is a)\n",
        "print('c.base is a: ', c.base is a)\n",
        "c.shape = 2,6\n",
        "print('a.shape: ', a.shape)\n",
        "print('c.shape: ', c.shape)\n",
        "a[0] = 1000\n",
        "print('a = ', a)\n",
        "print('c = ', c)\n",
        "# copy函数是深拷贝，数据不共享\n",
        "d = a.copy()\n",
        "print('d is a: ', d is a)\n",
        "print('d.base is a: ', d.base is a)\n",
        "a[0]=9999\n",
        "d[0]=8888\n",
        "print('a = ', a)\n",
        "print('d = ', d)"
      ],
      "execution_count": 0,
      "outputs": [
        {
          "output_type": "stream",
          "text": [
            "b is a:  True\n",
            "c is a:  False\n",
            "c.base is a:  True\n",
            "a.shape:  (12,)\n",
            "c.shape:  (2, 6)\n",
            "a =  [1000    1    2    3    4    5    6    7    8    9   10   11]\n",
            "c =  [[1000    1    2    3    4    5]\n",
            " [   6    7    8    9   10   11]]\n",
            "d is a:  False\n",
            "d.base is a:  False\n",
            "a =  [9999    1    2    3    4    5    6    7    8    9   10   11]\n",
            "d =  [8888    1    2    3    4    5    6    7    8    9   10   11]\n"
          ],
          "name": "stdout"
        }
      ]
    }
  ]
}