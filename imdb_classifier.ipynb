{
  "nbformat": 4,
  "nbformat_minor": 0,
  "metadata": {
    "colab": {
      "name": "imdb_classifier.ipynb",
      "version": "0.3.2",
      "provenance": [],
      "collapsed_sections": [],
      "include_colab_link": true
    },
    "kernelspec": {
      "name": "python3",
      "display_name": "Python 3"
    }
  },
  "cells": [
    {
      "cell_type": "markdown",
      "metadata": {
        "id": "view-in-github",
        "colab_type": "text"
      },
      "source": [
        "<a href=\"https://colab.research.google.com/github/hedgehog-zowie/tf-study/blob/master/imdb_classifier.ipynb\" target=\"_parent\"><img src=\"https://colab.research.google.com/assets/colab-badge.svg\" alt=\"Open In Colab\"/></a>"
      ]
    },
    {
      "metadata": {
        "id": "npV2LyzQ_A8L",
        "colab_type": "text"
      },
      "cell_type": "markdown",
      "source": [
        "第二个tensorflow例子，使用tensorflow的keras api实现imdb的影评分类。"
      ]
    },
    {
      "metadata": {
        "id": "h2IFEVRuzB_a",
        "colab_type": "text"
      },
      "cell_type": "markdown",
      "source": [
        "一、导入相关module。"
      ]
    },
    {
      "metadata": {
        "id": "vKvUXnzv_Uef",
        "colab_type": "code",
        "outputId": "6a7aca54-a6cb-4ef1-9dbb-5cde85c71e29",
        "colab": {
          "base_uri": "https://localhost:8080/",
          "height": 71
        }
      },
      "cell_type": "code",
      "source": [
        "# import modules\n",
        "import tensorflow as tf\n",
        "from tensorflow import keras\n",
        "\n",
        "import numpy as np\n",
        "import matplotlib as mpl\n",
        "import matplotlib.pyplot as plt\n",
        "\n",
        "# 查看各个module的版本\n",
        "print('tensorflow version: ', tf.__version__)\n",
        "print('numpy version: ', np.__version__)\n",
        "print('matplot version: ', mpl.__version__)"
      ],
      "execution_count": 1,
      "outputs": [
        {
          "output_type": "stream",
          "text": [
            "tensorflow version:  1.13.0-rc1\n",
            "numpy version:  1.14.6\n",
            "matplot version:  3.0.2\n"
          ],
          "name": "stdout"
        }
      ]
    },
    {
      "metadata": {
        "id": "eZPoQft3_XiR",
        "colab_type": "text"
      },
      "cell_type": "markdown",
      "source": [
        "二、准备imdb数据集。"
      ]
    },
    {
      "metadata": {
        "id": "_uneeNih_cvh",
        "colab_type": "code",
        "outputId": "7c49837e-5301-481c-97d9-da83ae250899",
        "colab": {
          "base_uri": "https://localhost:8080/",
          "height": 109
        }
      },
      "cell_type": "code",
      "source": [
        "imdb = keras.datasets.imdb\n",
        "(train_data, train_labels), (test_data, test_labels) = imdb.load_data(num_words = 10000)\n",
        "print('train_data.shape: ', train_data.shape)\n",
        "print('test_data.shape: ', test_data.shape)\n",
        "print(train_data[0])\n",
        "type(train_data)"
      ],
      "execution_count": 2,
      "outputs": [
        {
          "output_type": "stream",
          "text": [
            "train_data.shape:  (25000,)\n",
            "test_data.shape:  (25000,)\n",
            "[1, 14, 22, 16, 43, 530, 973, 1622, 1385, 65, 458, 4468, 66, 3941, 4, 173, 36, 256, 5, 25, 100, 43, 838, 112, 50, 670, 2, 9, 35, 480, 284, 5, 150, 4, 172, 112, 167, 2, 336, 385, 39, 4, 172, 4536, 1111, 17, 546, 38, 13, 447, 4, 192, 50, 16, 6, 147, 2025, 19, 14, 22, 4, 1920, 4613, 469, 4, 22, 71, 87, 12, 16, 43, 530, 38, 76, 15, 13, 1247, 4, 22, 17, 515, 17, 12, 16, 626, 18, 2, 5, 62, 386, 12, 8, 316, 8, 106, 5, 4, 2223, 5244, 16, 480, 66, 3785, 33, 4, 130, 12, 16, 38, 619, 5, 25, 124, 51, 36, 135, 48, 25, 1415, 33, 6, 22, 12, 215, 28, 77, 52, 5, 14, 407, 16, 82, 2, 8, 4, 107, 117, 5952, 15, 256, 4, 2, 7, 3766, 5, 723, 36, 71, 43, 530, 476, 26, 400, 317, 46, 7, 4, 2, 1029, 13, 104, 88, 4, 381, 15, 297, 98, 32, 2071, 56, 26, 141, 6, 194, 7486, 18, 4, 226, 22, 21, 134, 476, 26, 480, 5, 144, 30, 5535, 18, 51, 36, 28, 224, 92, 25, 104, 4, 226, 65, 16, 38, 1334, 88, 12, 16, 283, 5, 16, 4472, 113, 103, 32, 15, 16, 5345, 19, 178, 32]\n"
          ],
          "name": "stdout"
        },
        {
          "output_type": "execute_result",
          "data": {
            "text/plain": [
              "numpy.ndarray"
            ]
          },
          "metadata": {
            "tags": []
          },
          "execution_count": 2
        }
      ]
    },
    {
      "metadata": {
        "id": "8Bq9SpWg_yFj",
        "colab_type": "text"
      },
      "cell_type": "markdown",
      "source": [
        "三、数据预处理，将影评数组处理成具有相同长度(max_length)的数组，以便于创建一个形状为*max_length X num_reviews*的整数张量。"
      ]
    },
    {
      "metadata": {
        "id": "KMmax4-LBi5v",
        "colab_type": "code",
        "outputId": "dd0a41bc-a6b2-4878-924c-cc025aae5042",
        "colab": {
          "base_uri": "https://localhost:8080/",
          "height": 413
        }
      },
      "cell_type": "code",
      "source": [
        "# pad_sequences可以将一个序列处理成2D Numpy 矩阵\n",
        "# padding='post'表示在后面补齐，与之对应的还有padding='pre'，表示在前面补齐\n",
        "# truncating='post'表示在后面截断，对应的有truncating='pre'，表示在前面截断\n",
        "# maxlen为最大长度，可省略，若省略则为train_data中最长的序列长度\n",
        "# value为要补的值\n",
        "train_data = keras.preprocessing.sequence.pad_sequences(train_data, value = 0, padding = 'post', maxlen = 256)\n",
        "test_data = keras.preprocessing.sequence.pad_sequences(test_data, value = 0, padding = 'post', maxlen = 256)\n",
        "print('train_data.shape: ', train_data.shape)\n",
        "print('test_data.shape: ', test_data.shape)\n",
        "print(train_data[0])\n",
        "type(train_data)"
      ],
      "execution_count": 3,
      "outputs": [
        {
          "output_type": "stream",
          "text": [
            "train_data.shape:  (25000, 256)\n",
            "test_data.shape:  (25000, 256)\n",
            "[   1   14   22   16   43  530  973 1622 1385   65  458 4468   66 3941\n",
            "    4  173   36  256    5   25  100   43  838  112   50  670    2    9\n",
            "   35  480  284    5  150    4  172  112  167    2  336  385   39    4\n",
            "  172 4536 1111   17  546   38   13  447    4  192   50   16    6  147\n",
            " 2025   19   14   22    4 1920 4613  469    4   22   71   87   12   16\n",
            "   43  530   38   76   15   13 1247    4   22   17  515   17   12   16\n",
            "  626   18    2    5   62  386   12    8  316    8  106    5    4 2223\n",
            " 5244   16  480   66 3785   33    4  130   12   16   38  619    5   25\n",
            "  124   51   36  135   48   25 1415   33    6   22   12  215   28   77\n",
            "   52    5   14  407   16   82    2    8    4  107  117 5952   15  256\n",
            "    4    2    7 3766    5  723   36   71   43  530  476   26  400  317\n",
            "   46    7    4    2 1029   13  104   88    4  381   15  297   98   32\n",
            " 2071   56   26  141    6  194 7486   18    4  226   22   21  134  476\n",
            "   26  480    5  144   30 5535   18   51   36   28  224   92   25  104\n",
            "    4  226   65   16   38 1334   88   12   16  283    5   16 4472  113\n",
            "  103   32   15   16 5345   19  178   32    0    0    0    0    0    0\n",
            "    0    0    0    0    0    0    0    0    0    0    0    0    0    0\n",
            "    0    0    0    0    0    0    0    0    0    0    0    0    0    0\n",
            "    0    0    0    0]\n"
          ],
          "name": "stdout"
        },
        {
          "output_type": "execute_result",
          "data": {
            "text/plain": [
              "numpy.ndarray"
            ]
          },
          "metadata": {
            "tags": []
          },
          "execution_count": 3
        }
      ]
    },
    {
      "metadata": {
        "id": "bBcs-pZsMlhx",
        "colab_type": "text"
      },
      "cell_type": "markdown",
      "source": [
        "四、构建模型"
      ]
    },
    {
      "metadata": {
        "id": "XiA0XwY-NocZ",
        "colab_type": "code",
        "colab": {
          "base_uri": "https://localhost:8080/",
          "height": 361
        },
        "outputId": "5ac929cb-cf16-4300-ca8a-92abe6a6c3c7"
      },
      "cell_type": "code",
      "source": [
        "model = keras.Sequential()\n",
        "# 由于单词组成的矩阵非常稀疏（一个向量仅1个1，其余全为0），因此将10000个单词（准备数据时只取了频率最高的10000个词）组成的单词表转换成16维的词向量来表示，以达到降维的目的（10000维 -> 16维）。\n",
        "model.add(keras.layers.Embedding(10000, 16))\n",
        "# 池化层，其作用主要有：\n",
        "# 1.保留主要特征的同时减少参数（降低维度，类似PCA）和计算量，防止过拟合，提高模型的泛化能力。\n",
        "# 2.不变性，包括translation(平移)，rotation(旋转)，scale(尺度)，更关注是否存在某些特征而不是特征具体的位置。\n",
        "# 3.获得定长输出，文本分类的输入是不定长的，可以通过池化获得定长输出，也是本例中使用池化层的目的。\n",
        "model.add(keras.layers.GlobalAveragePooling1D())\n",
        "model.add(keras.layers.Dense(16, activation = tf.nn.relu))\n",
        "model.add(keras.layers.Dense(1, activation = tf.nn.sigmoid))\n",
        "# 打印出模型概述信息\n",
        "model.summary()"
      ],
      "execution_count": 4,
      "outputs": [
        {
          "output_type": "stream",
          "text": [
            "WARNING:tensorflow:From /usr/local/lib/python3.6/dist-packages/tensorflow/python/ops/resource_variable_ops.py:435: colocate_with (from tensorflow.python.framework.ops) is deprecated and will be removed in a future version.\n",
            "Instructions for updating:\n",
            "Colocations handled automatically by placer.\n",
            "_________________________________________________________________\n",
            "Layer (type)                 Output Shape              Param #   \n",
            "=================================================================\n",
            "embedding (Embedding)        (None, None, 16)          160000    \n",
            "_________________________________________________________________\n",
            "global_average_pooling1d (Gl (None, 16)                0         \n",
            "_________________________________________________________________\n",
            "dense (Dense)                (None, 16)                272       \n",
            "_________________________________________________________________\n",
            "dense_1 (Dense)              (None, 1)                 17        \n",
            "=================================================================\n",
            "Total params: 160,289\n",
            "Trainable params: 160,289\n",
            "Non-trainable params: 0\n",
            "_________________________________________________________________\n"
          ],
          "name": "stdout"
        }
      ]
    },
    {
      "metadata": {
        "id": "yMtsl0k2SE4b",
        "colab_type": "text"
      },
      "cell_type": "markdown",
      "source": [
        "五、编译模型"
      ]
    },
    {
      "metadata": {
        "id": "kDH8KkyUSdPz",
        "colab_type": "code",
        "colab": {}
      },
      "cell_type": "code",
      "source": [
        "model.compile(optimizer=tf.train.AdamOptimizer(), loss='binary_crossentropy', metrics=['accuracy'])"
      ],
      "execution_count": 0,
      "outputs": []
    },
    {
      "metadata": {
        "id": "I3f0voumSkuU",
        "colab_type": "text"
      },
      "cell_type": "markdown",
      "source": [
        "六、训练模型"
      ]
    },
    {
      "metadata": {
        "id": "b8WNqpN_Snxn",
        "colab_type": "code",
        "colab": {
          "base_uri": "https://localhost:8080/",
          "height": 1933
        },
        "outputId": "fbef6552-64e5-4159-c303-77b137f1aa17"
      },
      "cell_type": "code",
      "source": [
        "# 准备训练集与验证集\n",
        "x_val = train_data[:10000]\n",
        "partial_x_train = train_data[10000:]\n",
        "y_val = train_labels[:10000]\n",
        "partial_y_train = train_labels[10000:]\n",
        "\n",
        "# 训练模型\n",
        "history = model.fit(partial_x_train, partial_y_train, epochs=40, batch_size=512, validation_data=(x_val, y_val), verbose=1)\n",
        "history_dict = history.history\n",
        "print('history_dict.keys(): ', history_dict.keys())\n",
        "\n",
        "# 画图\n",
        "acc = history_dict['acc']\n",
        "val_acc = history_dict['val_acc']\n",
        "loss = history_dict['loss']\n",
        "val_loss = history_dict['val_loss']\n",
        "epochs = range(1, len(acc) + 1)\n",
        "\n",
        "plt.figure(figsize=(15, 6))\n",
        "\n",
        "plt.subplot(1, 2, 1)\n",
        "plt.title('acc')\n",
        "plt.xlabel('epochs')\n",
        "plt.ylabel('accuracy')\n",
        "plt.plot(epochs, acc, color='blue', label='train acc')\n",
        "plt.plot(epochs, val_acc, color='green', label='val acc')\n",
        "plt.legend()\n",
        "\n",
        "plt.subplot(1, 2, 2)\n",
        "plt.title('loss')\n",
        "plt.xlabel('epochs')\n",
        "plt.ylabel('loss')\n",
        "plt.plot(epochs, loss, color='blue', label='train loss')\n",
        "plt.plot(epochs, val_loss, color='green', label='val loss')\n",
        "plt.legend()\n",
        "\n",
        "plt.show()"
      ],
      "execution_count": 6,
      "outputs": [
        {
          "output_type": "stream",
          "text": [
            "Train on 15000 samples, validate on 10000 samples\n",
            "WARNING:tensorflow:From /usr/local/lib/python3.6/dist-packages/tensorflow/python/ops/math_ops.py:3066: to_int32 (from tensorflow.python.ops.math_ops) is deprecated and will be removed in a future version.\n",
            "Instructions for updating:\n",
            "Use tf.cast instead.\n",
            "Epoch 1/40\n",
            "15000/15000 [==============================] - 1s 70us/sample - loss: 0.6923 - acc: 0.5281 - val_loss: 0.6909 - val_acc: 0.5761\n",
            "Epoch 2/40\n",
            "15000/15000 [==============================] - 1s 59us/sample - loss: 0.6874 - acc: 0.6577 - val_loss: 0.6837 - val_acc: 0.6984\n",
            "Epoch 3/40\n",
            "15000/15000 [==============================] - 1s 58us/sample - loss: 0.6757 - acc: 0.7327 - val_loss: 0.6684 - val_acc: 0.7548\n",
            "Epoch 4/40\n",
            "15000/15000 [==============================] - 1s 58us/sample - loss: 0.6537 - acc: 0.7573 - val_loss: 0.6431 - val_acc: 0.7593\n",
            "Epoch 5/40\n",
            "15000/15000 [==============================] - 1s 60us/sample - loss: 0.6211 - acc: 0.7901 - val_loss: 0.6091 - val_acc: 0.7845\n",
            "Epoch 6/40\n",
            "15000/15000 [==============================] - 1s 60us/sample - loss: 0.5798 - acc: 0.8099 - val_loss: 0.5694 - val_acc: 0.7985\n",
            "Epoch 7/40\n",
            "15000/15000 [==============================] - 1s 59us/sample - loss: 0.5336 - acc: 0.8264 - val_loss: 0.5262 - val_acc: 0.8167\n",
            "Epoch 8/40\n",
            "15000/15000 [==============================] - 1s 58us/sample - loss: 0.4871 - acc: 0.8442 - val_loss: 0.4859 - val_acc: 0.8312\n",
            "Epoch 9/40\n",
            "15000/15000 [==============================] - 1s 58us/sample - loss: 0.4426 - acc: 0.8590 - val_loss: 0.4471 - val_acc: 0.8416\n",
            "Epoch 10/40\n",
            "15000/15000 [==============================] - 1s 58us/sample - loss: 0.4016 - acc: 0.8725 - val_loss: 0.4148 - val_acc: 0.8487\n",
            "Epoch 11/40\n",
            "15000/15000 [==============================] - 1s 59us/sample - loss: 0.3671 - acc: 0.8801 - val_loss: 0.3884 - val_acc: 0.8589\n",
            "Epoch 12/40\n",
            "15000/15000 [==============================] - 1s 59us/sample - loss: 0.3383 - acc: 0.8895 - val_loss: 0.3682 - val_acc: 0.8608\n",
            "Epoch 13/40\n",
            "15000/15000 [==============================] - 1s 60us/sample - loss: 0.3150 - acc: 0.8950 - val_loss: 0.3506 - val_acc: 0.8675\n",
            "Epoch 14/40\n",
            "15000/15000 [==============================] - 1s 58us/sample - loss: 0.2942 - acc: 0.9006 - val_loss: 0.3378 - val_acc: 0.8712\n",
            "Epoch 15/40\n",
            "15000/15000 [==============================] - 1s 59us/sample - loss: 0.2770 - acc: 0.9047 - val_loss: 0.3273 - val_acc: 0.8739\n",
            "Epoch 16/40\n",
            "15000/15000 [==============================] - 1s 58us/sample - loss: 0.2616 - acc: 0.9099 - val_loss: 0.3186 - val_acc: 0.8751\n",
            "Epoch 17/40\n",
            "15000/15000 [==============================] - 1s 59us/sample - loss: 0.2475 - acc: 0.9142 - val_loss: 0.3114 - val_acc: 0.8781\n",
            "Epoch 18/40\n",
            "15000/15000 [==============================] - 1s 59us/sample - loss: 0.2350 - acc: 0.9193 - val_loss: 0.3051 - val_acc: 0.8803\n",
            "Epoch 19/40\n",
            "15000/15000 [==============================] - 1s 60us/sample - loss: 0.2238 - acc: 0.9221 - val_loss: 0.2999 - val_acc: 0.8811\n",
            "Epoch 20/40\n",
            "15000/15000 [==============================] - 1s 58us/sample - loss: 0.2136 - acc: 0.9257 - val_loss: 0.2963 - val_acc: 0.8810\n",
            "Epoch 21/40\n",
            "15000/15000 [==============================] - 1s 58us/sample - loss: 0.2034 - acc: 0.9310 - val_loss: 0.2932 - val_acc: 0.8822\n",
            "Epoch 22/40\n",
            "15000/15000 [==============================] - 1s 59us/sample - loss: 0.1948 - acc: 0.9330 - val_loss: 0.2906 - val_acc: 0.8834\n",
            "Epoch 23/40\n",
            "15000/15000 [==============================] - 1s 59us/sample - loss: 0.1861 - acc: 0.9382 - val_loss: 0.2893 - val_acc: 0.8828\n",
            "Epoch 24/40\n",
            "15000/15000 [==============================] - 1s 59us/sample - loss: 0.1786 - acc: 0.9415 - val_loss: 0.2874 - val_acc: 0.8845\n",
            "Epoch 25/40\n",
            "15000/15000 [==============================] - 1s 62us/sample - loss: 0.1709 - acc: 0.9455 - val_loss: 0.2860 - val_acc: 0.8843\n",
            "Epoch 26/40\n",
            "15000/15000 [==============================] - 1s 60us/sample - loss: 0.1640 - acc: 0.9475 - val_loss: 0.2864 - val_acc: 0.8834\n",
            "Epoch 27/40\n",
            "15000/15000 [==============================] - 1s 60us/sample - loss: 0.1575 - acc: 0.9498 - val_loss: 0.2858 - val_acc: 0.8844\n",
            "Epoch 28/40\n",
            "15000/15000 [==============================] - 1s 60us/sample - loss: 0.1513 - acc: 0.9535 - val_loss: 0.2858 - val_acc: 0.8846\n",
            "Epoch 29/40\n",
            "15000/15000 [==============================] - 1s 59us/sample - loss: 0.1459 - acc: 0.9558 - val_loss: 0.2875 - val_acc: 0.8840\n",
            "Epoch 30/40\n",
            "15000/15000 [==============================] - 1s 59us/sample - loss: 0.1402 - acc: 0.9573 - val_loss: 0.2867 - val_acc: 0.8863\n",
            "Epoch 31/40\n",
            "15000/15000 [==============================] - 1s 60us/sample - loss: 0.1345 - acc: 0.9608 - val_loss: 0.2877 - val_acc: 0.8867\n",
            "Epoch 32/40\n",
            "15000/15000 [==============================] - 1s 60us/sample - loss: 0.1293 - acc: 0.9628 - val_loss: 0.2890 - val_acc: 0.8865\n",
            "Epoch 33/40\n",
            "15000/15000 [==============================] - 1s 60us/sample - loss: 0.1243 - acc: 0.9641 - val_loss: 0.2911 - val_acc: 0.8850\n",
            "Epoch 34/40\n",
            "15000/15000 [==============================] - 1s 59us/sample - loss: 0.1199 - acc: 0.9661 - val_loss: 0.2928 - val_acc: 0.8858\n",
            "Epoch 35/40\n",
            "15000/15000 [==============================] - 1s 59us/sample - loss: 0.1158 - acc: 0.9669 - val_loss: 0.2954 - val_acc: 0.8856\n",
            "Epoch 36/40\n",
            "15000/15000 [==============================] - 1s 59us/sample - loss: 0.1113 - acc: 0.9698 - val_loss: 0.2970 - val_acc: 0.8857\n",
            "Epoch 37/40\n",
            "15000/15000 [==============================] - 1s 58us/sample - loss: 0.1070 - acc: 0.9705 - val_loss: 0.2994 - val_acc: 0.8853\n",
            "Epoch 38/40\n",
            "15000/15000 [==============================] - 1s 60us/sample - loss: 0.1031 - acc: 0.9719 - val_loss: 0.3028 - val_acc: 0.8834\n",
            "Epoch 39/40\n",
            "15000/15000 [==============================] - 1s 60us/sample - loss: 0.0999 - acc: 0.9728 - val_loss: 0.3058 - val_acc: 0.8829\n",
            "Epoch 40/40\n",
            "15000/15000 [==============================] - 1s 60us/sample - loss: 0.0959 - acc: 0.9749 - val_loss: 0.3082 - val_acc: 0.8833\n",
            "history_dict.keys():  dict_keys(['loss', 'acc', 'val_loss', 'val_acc'])\n"
          ],
          "name": "stdout"
        },
        {
          "output_type": "display_data",
          "data": {
            "image/png": "[encoded data removed]",
            "text/plain": [
              "<Figure size 1080x432 with 2 Axes>"
            ]
          },
          "metadata": {
            "tags": []
          }
        }
      ]
    },
    {
      "metadata": {
        "id": "QNM7UZkBTMaM",
        "colab_type": "text"
      },
      "cell_type": "markdown",
      "source": [
        "七、评估模型"
      ]
    },
    {
      "metadata": {
        "id": "hV_y6KyVTOeh",
        "colab_type": "code",
        "colab": {
          "base_uri": "https://localhost:8080/",
          "height": 53
        },
        "outputId": "c4e27b8c-b79e-4fe3-f242-0b120ae82527"
      },
      "cell_type": "code",
      "source": [
        "results = model.evaluate(test_data, test_labels)\n",
        "print(results)"
      ],
      "execution_count": 7,
      "outputs": [
        {
          "output_type": "stream",
          "text": [
            "25000/25000 [==============================] - 1s 36us/sample - loss: 0.3293 - acc: 0.8718\n",
            "[0.3292664639663696, 0.8718]\n"
          ],
          "name": "stdout"
        }
      ]
    }
  ]
}